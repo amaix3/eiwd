{
  "nbformat": 4,
  "nbformat_minor": 0,
  "metadata": {
    "colab": {
      "provenance": []
    },
    "kernelspec": {
      "name": "python3",
      "display_name": "Python 3"
    },
    "language_info": {
      "name": "python"
    }
  },
  "cells": [
    {
      "cell_type": "markdown",
      "source": [
        "# 1 - Użycie PySpark w celu eksploracji Big Data"
      ],
      "metadata": {
        "id": "MvcjYKPFSeiI"
      }
    },
    {
      "cell_type": "markdown",
      "source": [
        "1.1 - Konfigurowanie środowiska w Anaconda lub Google Colab"
      ],
      "metadata": {
        "id": "T4mVORDFSmZz"
      }
    },
    {
      "cell_type": "markdown",
      "source": [
        "Do wykonywania zadań został wybrany Google Colaboratory"
      ],
      "metadata": {
        "id": "mnNVItUxSqP3"
      }
    },
    {
      "cell_type": "code",
      "execution_count": 88,
      "metadata": {
        "colab": {
          "base_uri": "https://localhost:8080/"
        },
        "id": "q3_e25uN7pQ9",
        "outputId": "0f4fbd49-7a03-4861-e056-1c93dd2cbd86"
      },
      "outputs": [
        {
          "output_type": "stream",
          "name": "stdout",
          "text": [
            "Looking in indexes: https://pypi.org/simple, https://us-python.pkg.dev/colab-wheels/public/simple/\n",
            "Requirement already satisfied: pyspark==3.0.1 in /usr/local/lib/python3.10/dist-packages (3.0.1)\n",
            "Requirement already satisfied: py4j==0.10.9 in /usr/local/lib/python3.10/dist-packages (0.10.9)\n"
          ]
        }
      ],
      "source": [
        "# Polecenie do zainstalowania pakietów pyspark i py4j:\n",
        "\n",
        "! pip install pyspark==3.0.1 py4j==0.10.9"
      ]
    },
    {
      "cell_type": "markdown",
      "source": [
        "1.2 - Sesja Spark"
      ],
      "metadata": {
        "id": "yAVkVKkW9biG"
      }
    },
    {
      "cell_type": "markdown",
      "source": [
        "1.3 - Tworzenie SparkSession"
      ],
      "metadata": {
        "id": "l-Cgv89eTf19"
      }
    },
    {
      "cell_type": "code",
      "source": [
        "from pyspark.sql import SparkSession\n",
        "spark = SparkSession.builder\\\n",
        ".master(\"local[*]\")\\\n",
        ".appName('PySpark_Tutorial')\\\n",
        ".getOrCreate()"
      ],
      "metadata": {
        "id": "gqryo8fd78l4"
      },
      "execution_count": 89,
      "outputs": []
    },
    {
      "cell_type": "markdown",
      "source": [
        "1.4 -  Czytanie danych"
      ],
      "metadata": {
        "id": "SsXjdBvM9xc7"
      }
    },
    {
      "cell_type": "code",
      "source": [
        "csv_file = '/content/IHME_GBD_2019_SMOKING_TOB_1990_2019_NUM_SMOKERS_Y2021M05D27.CSV'\n",
        "df = spark.read.csv(csv_file)"
      ],
      "metadata": {
        "id": "7Mse2YAv9zWU"
      },
      "execution_count": 90,
      "outputs": []
    },
    {
      "cell_type": "markdown",
      "source": [
        "1.5 - Pobieranie danych za pomocą URL"
      ],
      "metadata": {
        "id": "1mfPJCO_AJkd"
      }
    },
    {
      "cell_type": "code",
      "source": [
        "from pyspark import SparkFiles\n",
        "\n",
        "spark.sparkContext.addFile('https://storage.covid19datahub.io/level/1.csv')\n",
        "\n",
        "df = spark.read.csv(SparkFiles.get(\"1.csv\"), header=True)\n"
      ],
      "metadata": {
        "id": "pC2TxfA1_6np"
      },
      "execution_count": 91,
      "outputs": []
    },
    {
      "cell_type": "markdown",
      "source": [
        "# 2 - Strukturyzacja danych za pomocą schematu Spark\n",
        "\n"
      ],
      "metadata": {
        "id": "jBDwHDOYT19O"
      }
    },
    {
      "cell_type": "markdown",
      "source": [
        "Kod do odczytu danych w formacie pliku CSV:"
      ],
      "metadata": {
        "id": "5FN8-bMOT8Ta"
      }
    },
    {
      "cell_type": "code",
      "source": [
        "data = spark.read.csv(\n",
        "'/content/IHME_GBD_2019_SMOKING_TOB_1990_2019_NUM_SMOKERS_Y2021M05D27.CSV',\n",
        "sep=',',\n",
        "header=True,\n",
        ")\n",
        "data.printSchema()\n"
      ],
      "metadata": {
        "colab": {
          "base_uri": "https://localhost:8080/"
        },
        "id": "3HYU3cWaAQ2U",
        "outputId": "5fbae9ee-0b37-4c1c-ca64-73e40370c8f2"
      },
      "execution_count": 92,
      "outputs": [
        {
          "output_type": "stream",
          "name": "stdout",
          "text": [
            "root\n",
            " |-- measure_name: string (nullable = true)\n",
            " |-- location_id: string (nullable = true)\n",
            " |-- location_name: string (nullable = true)\n",
            " |-- sex_id: string (nullable = true)\n",
            " |-- sex_name: string (nullable = true)\n",
            " |-- age_group_id: string (nullable = true)\n",
            " |-- age_group_name: string (nullable = true)\n",
            " |-- year_id: string (nullable = true)\n",
            " |-- val: string (nullable = true)\n",
            " |-- upper: string (nullable = true)\n",
            " |-- lower: string (nullable = true)\n",
            "\n"
          ]
        }
      ]
    },
    {
      "cell_type": "markdown",
      "source": [
        "Precyzowanie struktury danych"
      ],
      "metadata": {
        "id": "yRHAHSiyBPBx"
      }
    },
    {
      "cell_type": "code",
      "source": [
        "from pyspark.sql.types import *\n",
        "data_schema = [\n",
        "                StructField('measure_name', StringType(), True),\n",
        "                StructField('location_id', IntegerType(), True),\n",
        "                StructField('location_name', StringType(), True),\n",
        "                StructField('sex_id', IntegerType(), True),\n",
        "                StructField('sex_name', StringType(), True),\n",
        "                StructField('age_group_id', IntegerType(), True),\n",
        "                StructField('age_group_name', StringType(), True),\n",
        "                StructField('year_id', IntegerType(), True),\n",
        "                StructField('val', DoubleType(), True),\n",
        "                StructField('upper', DoubleType(), True),\n",
        "                StructField('lower', DoubleType(), True),\n",
        "                ]\n",
        "\n",
        "final_struc = StructType(fields = data_schema)\n",
        "data = spark.read.csv(\n",
        "      '/content/IHME_GBD_2019_SMOKING_TOB_1990_2019_NUM_SMOKERS_Y2021M05D27.CSV',\n",
        "      sep=',',\n",
        "      header=True,\n",
        "      schema=final_struc\n",
        ")\n",
        "data.printSchema()"
      ],
      "metadata": {
        "colab": {
          "base_uri": "https://localhost:8080/"
        },
        "id": "Saqh_WN7A7zP",
        "outputId": "1c9d1bf5-ac4f-4212-f135-ecc5b339cb9b"
      },
      "execution_count": 93,
      "outputs": [
        {
          "output_type": "stream",
          "name": "stdout",
          "text": [
            "root\n",
            " |-- measure_name: string (nullable = true)\n",
            " |-- location_id: integer (nullable = true)\n",
            " |-- location_name: string (nullable = true)\n",
            " |-- sex_id: integer (nullable = true)\n",
            " |-- sex_name: string (nullable = true)\n",
            " |-- age_group_id: integer (nullable = true)\n",
            " |-- age_group_name: string (nullable = true)\n",
            " |-- year_id: integer (nullable = true)\n",
            " |-- val: double (nullable = true)\n",
            " |-- upper: double (nullable = true)\n",
            " |-- lower: double (nullable = true)\n",
            "\n"
          ]
        }
      ]
    },
    {
      "cell_type": "markdown",
      "source": [
        "## 3 - Różne metody kontroli danych\n"
      ],
      "metadata": {
        "id": "QOnTruJlBkPF"
      }
    },
    {
      "cell_type": "markdown",
      "source": [
        "schema(): Ta metoda zwraca schemat danych (ramka danych)."
      ],
      "metadata": {
        "id": "HFPhEHNcU4ZP"
      }
    },
    {
      "cell_type": "code",
      "source": [
        "data.schema"
      ],
      "metadata": {
        "colab": {
          "base_uri": "https://localhost:8080/"
        },
        "id": "6VaTl1eIBe7u",
        "outputId": "af938f47-c923-455f-9519-f9cddff1dc59"
      },
      "execution_count": 94,
      "outputs": [
        {
          "output_type": "execute_result",
          "data": {
            "text/plain": [
              "StructType(List(StructField(measure_name,StringType,true),StructField(location_id,IntegerType,true),StructField(location_name,StringType,true),StructField(sex_id,IntegerType,true),StructField(sex_name,StringType,true),StructField(age_group_id,IntegerType,true),StructField(age_group_name,StringType,true),StructField(year_id,IntegerType,true),StructField(val,DoubleType,true),StructField(upper,DoubleType,true),StructField(lower,DoubleType,true)))"
            ]
          },
          "metadata": {},
          "execution_count": 94
        }
      ]
    },
    {
      "cell_type": "markdown",
      "source": [
        "dtypes zwraca listę krotek z nazwami kolumn i typami danych."
      ],
      "metadata": {
        "id": "E9OzsLR7VH-_"
      }
    },
    {
      "cell_type": "code",
      "source": [
        "data.dtypes\n"
      ],
      "metadata": {
        "colab": {
          "base_uri": "https://localhost:8080/"
        },
        "id": "FOAjMezIBtUM",
        "outputId": "d4063668-88bc-45d6-82d0-8782d065c388"
      },
      "execution_count": 95,
      "outputs": [
        {
          "output_type": "execute_result",
          "data": {
            "text/plain": [
              "[('measure_name', 'string'),\n",
              " ('location_id', 'int'),\n",
              " ('location_name', 'string'),\n",
              " ('sex_id', 'int'),\n",
              " ('sex_name', 'string'),\n",
              " ('age_group_id', 'int'),\n",
              " ('age_group_name', 'string'),\n",
              " ('year_id', 'int'),\n",
              " ('val', 'double'),\n",
              " ('upper', 'double'),\n",
              " ('lower', 'double')]"
            ]
          },
          "metadata": {},
          "execution_count": 95
        }
      ]
    },
    {
      "cell_type": "markdown",
      "source": [
        "head(n) zwraca n wierszy jako listę."
      ],
      "metadata": {
        "id": "Zg63eJ13VOQ4"
      }
    },
    {
      "cell_type": "code",
      "source": [
        "data.head(3)"
      ],
      "metadata": {
        "colab": {
          "base_uri": "https://localhost:8080/"
        },
        "id": "xSiC3LtxB3uW",
        "outputId": "f7228f3e-435d-4c9a-df9e-1a01049011f8"
      },
      "execution_count": 96,
      "outputs": [
        {
          "output_type": "execute_result",
          "data": {
            "text/plain": [
              "[Row(measure_name='Number of Smokers', location_id=1, location_name='Global', sex_id=1, sex_name='Male', age_group_id=29, age_group_name='15+ years', year_id=1990, val=803101467.1, upper=809622101.0, lower=795908635.8),\n",
              " Row(measure_name='Number of Smokers', location_id=1, location_name='Global', sex_id=2, sex_name='Female', age_group_id=29, age_group_name='15+ years', year_id=1990, val=189148834.0, upper=193092888.7, lower=185559469.9),\n",
              " Row(measure_name='Number of Smokers', location_id=1, location_name='Global', sex_id=3, sex_name='Both', age_group_id=29, age_group_name='15+ years', year_id=1990, val=992250301.2, upper=1000161258.0, lower=984788043.8)]"
            ]
          },
          "metadata": {},
          "execution_count": 96
        }
      ]
    },
    {
      "cell_type": "markdown",
      "source": [
        "show() domyślnie wyświetla pierwsze 20 wierszy, a także przyjmuje liczbę jako parametr\n",
        "określający ich liczbę"
      ],
      "metadata": {
        "id": "_-7A3bkXW7xt"
      }
    },
    {
      "cell_type": "code",
      "source": [
        "data.show()"
      ],
      "metadata": {
        "colab": {
          "base_uri": "https://localhost:8080/"
        },
        "id": "5qFtJhl-CA6j",
        "outputId": "e3ac1539-bfd7-4064-a580-ebbeab3f6a5c"
      },
      "execution_count": 97,
      "outputs": [
        {
          "output_type": "stream",
          "name": "stdout",
          "text": [
            "+-----------------+-----------+-------------+------+--------+------------+--------------+-------+-------------+-------------+-------------+\n",
            "|     measure_name|location_id|location_name|sex_id|sex_name|age_group_id|age_group_name|year_id|          val|        upper|        lower|\n",
            "+-----------------+-----------+-------------+------+--------+------------+--------------+-------+-------------+-------------+-------------+\n",
            "|Number of Smokers|          1|       Global|     1|    Male|          29|     15+ years|   1990|8.031014671E8| 8.09622101E8|7.959086358E8|\n",
            "|Number of Smokers|          1|       Global|     2|  Female|          29|     15+ years|   1990| 1.89148834E8|1.930928887E8|1.855594699E8|\n",
            "|Number of Smokers|          1|       Global|     3|    Both|          29|     15+ years|   1990|9.922503012E8|1.000161258E9|9.847880438E8|\n",
            "|Number of Smokers|          1|       Global|     1|    Male|          29|     15+ years|   1991|8.138972164E8| 8.20033926E8|8.069514479E8|\n",
            "|Number of Smokers|          1|       Global|     2|  Female|          29|     15+ years|   1991|1.905375451E8|1.944249287E8|1.869744245E8|\n",
            "|Number of Smokers|          1|       Global|     3|    Both|          29|     15+ years|   1991|1.004434762E9|1.011924857E9|9.969810741E8|\n",
            "|Number of Smokers|          1|       Global|     1|    Male|          29|     15+ years|   1992|8.233148278E8|8.292228212E8|8.167263652E8|\n",
            "|Number of Smokers|          1|       Global|     2|  Female|          29|     15+ years|   1992|1.919026028E8|1.957108776E8|1.884066078E8|\n",
            "|Number of Smokers|          1|       Global|     3|    Both|          29|     15+ years|   1992|1.015217431E9| 1.02272003E9|1.007846871E9|\n",
            "|Number of Smokers|          1|       Global|     1|    Male|          29|     15+ years|   1993|8.313872544E8|8.372931128E8| 8.24949648E8|\n",
            "|Number of Smokers|          1|       Global|     2|  Female|          29|     15+ years|   1993|1.932817999E8|1.970625972E8|1.898391826E8|\n",
            "|Number of Smokers|          1|       Global|     3|    Both|          29|     15+ years|   1993|1.024669054E9|1.031964573E9|1.017550791E9|\n",
            "|Number of Smokers|          1|       Global|     1|    Male|          29|     15+ years|   1994|8.378204498E8|8.437233083E8|8.316340039E8|\n",
            "|Number of Smokers|          1|       Global|     2|  Female|          29|     15+ years|   1994|1.947461502E8|1.985204504E8|1.913568137E8|\n",
            "|Number of Smokers|          1|       Global|     3|    Both|          29|     15+ years|   1994|  1.0325666E9|1.039842491E9|1.025630607E9|\n",
            "|Number of Smokers|          1|       Global|     1|    Male|          29|     15+ years|   1995|8.433043019E8|8.490080491E8|  8.3750097E8|\n",
            "|Number of Smokers|          1|       Global|     2|  Female|          29|     15+ years|   1995|1.963544335E8|2.002139588E8|1.930128599E8|\n",
            "|Number of Smokers|          1|       Global|     3|    Both|          29|     15+ years|   1995|1.039658735E9|1.047062623E9|1.032850499E9|\n",
            "|Number of Smokers|          1|       Global|     1|    Male|          29|     15+ years|   1996|8.478849471E8|8.536353541E8| 8.42071989E8|\n",
            "|Number of Smokers|          1|       Global|     2|  Female|          29|     15+ years|   1996|1.980633863E8|2.018466552E8|1.946320182E8|\n",
            "+-----------------+-----------+-------------+------+--------+------------+--------------+-------+-------------+-------------+-------------+\n",
            "only showing top 20 rows\n",
            "\n"
          ]
        }
      ]
    },
    {
      "cell_type": "markdown",
      "source": [
        "first() zwraca pierwszy wiersz danych."
      ],
      "metadata": {
        "id": "Up0QfTC9W-ta"
      }
    },
    {
      "cell_type": "code",
      "source": [
        "data.first()"
      ],
      "metadata": {
        "colab": {
          "base_uri": "https://localhost:8080/"
        },
        "id": "yQxGFKeOCKzA",
        "outputId": "31677cbb-6b15-4722-d97f-9af0286317b6"
      },
      "execution_count": 98,
      "outputs": [
        {
          "output_type": "execute_result",
          "data": {
            "text/plain": [
              "Row(measure_name='Number of Smokers', location_id=1, location_name='Global', sex_id=1, sex_name='Male', age_group_id=29, age_group_name='15+ years', year_id=1990, val=803101467.1, upper=809622101.0, lower=795908635.8)"
            ]
          },
          "metadata": {},
          "execution_count": 98
        }
      ]
    },
    {
      "cell_type": "markdown",
      "source": [
        "take(n) zwraca pierwsze n wierszy"
      ],
      "metadata": {
        "id": "9rwK_RTeXCMK"
      }
    },
    {
      "cell_type": "code",
      "source": [
        "data.take(5)"
      ],
      "metadata": {
        "colab": {
          "base_uri": "https://localhost:8080/"
        },
        "id": "OHN3Y6_uCQsJ",
        "outputId": "5b793839-8934-4995-e2ba-13fa99561737"
      },
      "execution_count": 99,
      "outputs": [
        {
          "output_type": "execute_result",
          "data": {
            "text/plain": [
              "[Row(measure_name='Number of Smokers', location_id=1, location_name='Global', sex_id=1, sex_name='Male', age_group_id=29, age_group_name='15+ years', year_id=1990, val=803101467.1, upper=809622101.0, lower=795908635.8),\n",
              " Row(measure_name='Number of Smokers', location_id=1, location_name='Global', sex_id=2, sex_name='Female', age_group_id=29, age_group_name='15+ years', year_id=1990, val=189148834.0, upper=193092888.7, lower=185559469.9),\n",
              " Row(measure_name='Number of Smokers', location_id=1, location_name='Global', sex_id=3, sex_name='Both', age_group_id=29, age_group_name='15+ years', year_id=1990, val=992250301.2, upper=1000161258.0, lower=984788043.8),\n",
              " Row(measure_name='Number of Smokers', location_id=1, location_name='Global', sex_id=1, sex_name='Male', age_group_id=29, age_group_name='15+ years', year_id=1991, val=813897216.4, upper=820033926.0, lower=806951447.9),\n",
              " Row(measure_name='Number of Smokers', location_id=1, location_name='Global', sex_id=2, sex_name='Female', age_group_id=29, age_group_name='15+ years', year_id=1991, val=190537545.1, upper=194424928.7, lower=186974424.5)]"
            ]
          },
          "metadata": {},
          "execution_count": 99
        }
      ]
    },
    {
      "cell_type": "markdown",
      "source": [
        "describe() oblicza niektóre wartości statystyczne dla kolumn liczbowych."
      ],
      "metadata": {
        "id": "L33QfbJhXEdN"
      }
    },
    {
      "cell_type": "code",
      "source": [
        "data.describe()"
      ],
      "metadata": {
        "colab": {
          "base_uri": "https://localhost:8080/"
        },
        "id": "7KLy57e4CUqZ",
        "outputId": "881a19ee-1fd9-4afd-ebc5-5d70436736ad"
      },
      "execution_count": 100,
      "outputs": [
        {
          "output_type": "execute_result",
          "data": {
            "text/plain": [
              "DataFrame[summary: string, measure_name: string, location_id: string, location_name: string, sex_id: string, sex_name: string, age_group_id: string, age_group_name: string, year_id: string, val: string, upper: string, lower: string]"
            ]
          },
          "metadata": {},
          "execution_count": 100
        }
      ]
    },
    {
      "cell_type": "markdown",
      "source": [
        "columns zwraca listę zawierającą nazwy kolumn."
      ],
      "metadata": {
        "id": "7PLlppRoXHix"
      }
    },
    {
      "cell_type": "code",
      "source": [
        "data.columns "
      ],
      "metadata": {
        "colab": {
          "base_uri": "https://localhost:8080/"
        },
        "id": "Jjy3Ze5fCbbW",
        "outputId": "00db07c6-b617-4c30-92ea-225601f732fc"
      },
      "execution_count": 101,
      "outputs": [
        {
          "output_type": "execute_result",
          "data": {
            "text/plain": [
              "['measure_name',\n",
              " 'location_id',\n",
              " 'location_name',\n",
              " 'sex_id',\n",
              " 'sex_name',\n",
              " 'age_group_id',\n",
              " 'age_group_name',\n",
              " 'year_id',\n",
              " 'val',\n",
              " 'upper',\n",
              " 'lower']"
            ]
          },
          "metadata": {},
          "execution_count": 101
        }
      ]
    },
    {
      "cell_type": "markdown",
      "source": [
        "count() zwraca całkowitą liczbę wierszy w zestawie danych"
      ],
      "metadata": {
        "id": "RKRk7iUqXK4i"
      }
    },
    {
      "cell_type": "code",
      "source": [
        "data.count()"
      ],
      "metadata": {
        "colab": {
          "base_uri": "https://localhost:8080/"
        },
        "id": "BwnQ4GIlCfIs",
        "outputId": "b9a925e6-50e1-44ea-b5d7-5569d8d50673"
      },
      "execution_count": 102,
      "outputs": [
        {
          "output_type": "execute_result",
          "data": {
            "text/plain": [
              "20970"
            ]
          },
          "metadata": {},
          "execution_count": 102
        }
      ]
    },
    {
      "cell_type": "markdown",
      "source": [
        "differ() to liczba odmiennych wierszy w używanym zbiorze danych."
      ],
      "metadata": {
        "id": "V4Um3gWkXOHC"
      }
    },
    {
      "cell_type": "code",
      "source": [
        "data.differ() "
      ],
      "metadata": {
        "colab": {
          "base_uri": "https://localhost:8080/",
          "height": 287
        },
        "id": "wX6dSP7wCoD0",
        "outputId": "2aa1155b-71f9-499e-e417-61bfff4dab0c"
      },
      "execution_count": 103,
      "outputs": [
        {
          "output_type": "error",
          "ename": "AttributeError",
          "evalue": "ignored",
          "traceback": [
            "\u001b[0;31m---------------------------------------------------------------------------\u001b[0m",
            "\u001b[0;31mAttributeError\u001b[0m                            Traceback (most recent call last)",
            "\u001b[0;32m<ipython-input-103-2c299c4b5c86>\u001b[0m in \u001b[0;36m<cell line: 1>\u001b[0;34m()\u001b[0m\n\u001b[0;32m----> 1\u001b[0;31m \u001b[0mdata\u001b[0m\u001b[0;34m.\u001b[0m\u001b[0mdiffer\u001b[0m\u001b[0;34m(\u001b[0m\u001b[0;34m)\u001b[0m\u001b[0;34m\u001b[0m\u001b[0;34m\u001b[0m\u001b[0m\n\u001b[0m",
            "\u001b[0;32m/usr/local/lib/python3.10/dist-packages/pyspark/sql/dataframe.py\u001b[0m in \u001b[0;36m__getattr__\u001b[0;34m(self, name)\u001b[0m\n\u001b[1;32m   1398\u001b[0m         \"\"\"\n\u001b[1;32m   1399\u001b[0m         \u001b[0;32mif\u001b[0m \u001b[0mname\u001b[0m \u001b[0;32mnot\u001b[0m \u001b[0;32min\u001b[0m \u001b[0mself\u001b[0m\u001b[0;34m.\u001b[0m\u001b[0mcolumns\u001b[0m\u001b[0;34m:\u001b[0m\u001b[0;34m\u001b[0m\u001b[0;34m\u001b[0m\u001b[0m\n\u001b[0;32m-> 1400\u001b[0;31m             raise AttributeError(\n\u001b[0m\u001b[1;32m   1401\u001b[0m                 \"'%s' object has no attribute '%s'\" % (self.__class__.__name__, name))\n\u001b[1;32m   1402\u001b[0m         \u001b[0mjc\u001b[0m \u001b[0;34m=\u001b[0m \u001b[0mself\u001b[0m\u001b[0;34m.\u001b[0m\u001b[0m_jdf\u001b[0m\u001b[0;34m.\u001b[0m\u001b[0mapply\u001b[0m\u001b[0;34m(\u001b[0m\u001b[0mname\u001b[0m\u001b[0;34m)\u001b[0m\u001b[0;34m\u001b[0m\u001b[0;34m\u001b[0m\u001b[0m\n",
            "\u001b[0;31mAttributeError\u001b[0m: 'DataFrame' object has no attribute 'differ'"
          ]
        }
      ]
    },
    {
      "cell_type": "markdown",
      "source": [
        "printSchema() wyświetla schemat danych."
      ],
      "metadata": {
        "id": "8-RQYPlXXSiS"
      }
    },
    {
      "cell_type": "code",
      "source": [
        "data.printSchema()"
      ],
      "metadata": {
        "colab": {
          "base_uri": "https://localhost:8080/"
        },
        "id": "ynZSnp-wCxqP",
        "outputId": "fd2af014-bc6b-4fcb-9229-eee7af4c6ed5"
      },
      "execution_count": 104,
      "outputs": [
        {
          "output_type": "stream",
          "name": "stdout",
          "text": [
            "root\n",
            " |-- measure_name: string (nullable = true)\n",
            " |-- location_id: integer (nullable = true)\n",
            " |-- location_name: string (nullable = true)\n",
            " |-- sex_id: integer (nullable = true)\n",
            " |-- sex_name: string (nullable = true)\n",
            " |-- age_group_id: integer (nullable = true)\n",
            " |-- age_group_name: string (nullable = true)\n",
            " |-- year_id: integer (nullable = true)\n",
            " |-- val: double (nullable = true)\n",
            " |-- upper: double (nullable = true)\n",
            " |-- lower: double (nullable = true)\n",
            "\n"
          ]
        }
      ]
    },
    {
      "cell_type": "markdown",
      "source": [
        "# 4 - Manipulacja kolumnami"
      ],
      "metadata": {
        "id": "daL5JrXlDizW"
      }
    },
    {
      "cell_type": "markdown",
      "source": [
        "1 -  Dodawanie kolumny:"
      ],
      "metadata": {
        "id": "AVmeOyFLXbBd"
      }
    },
    {
      "cell_type": "code",
      "source": [
        "data = data.withColumn('location_name_copy', data.location_name)\n",
        "data.show(5)"
      ],
      "metadata": {
        "colab": {
          "base_uri": "https://localhost:8080/"
        },
        "id": "jmFlxGdUDN1-",
        "outputId": "524b9615-4a7b-4e7b-8f40-8dd4e0159972"
      },
      "execution_count": 105,
      "outputs": [
        {
          "output_type": "stream",
          "name": "stdout",
          "text": [
            "+-----------------+-----------+-------------+------+--------+------------+--------------+-------+-------------+-------------+-------------+------------------+\n",
            "|     measure_name|location_id|location_name|sex_id|sex_name|age_group_id|age_group_name|year_id|          val|        upper|        lower|location_name_copy|\n",
            "+-----------------+-----------+-------------+------+--------+------------+--------------+-------+-------------+-------------+-------------+------------------+\n",
            "|Number of Smokers|          1|       Global|     1|    Male|          29|     15+ years|   1990|8.031014671E8| 8.09622101E8|7.959086358E8|            Global|\n",
            "|Number of Smokers|          1|       Global|     2|  Female|          29|     15+ years|   1990| 1.89148834E8|1.930928887E8|1.855594699E8|            Global|\n",
            "|Number of Smokers|          1|       Global|     3|    Both|          29|     15+ years|   1990|9.922503012E8|1.000161258E9|9.847880438E8|            Global|\n",
            "|Number of Smokers|          1|       Global|     1|    Male|          29|     15+ years|   1991|8.138972164E8| 8.20033926E8|8.069514479E8|            Global|\n",
            "|Number of Smokers|          1|       Global|     2|  Female|          29|     15+ years|   1991|1.905375451E8|1.944249287E8|1.869744245E8|            Global|\n",
            "+-----------------+-----------+-------------+------+--------+------------+--------------+-------+-------------+-------------+-------------+------------------+\n",
            "only showing top 5 rows\n",
            "\n"
          ]
        }
      ]
    },
    {
      "cell_type": "markdown",
      "source": [
        "2 - Aktualizacja kolumny:"
      ],
      "metadata": {
        "id": "aMUQlLraXeA7"
      }
    },
    {
      "cell_type": "code",
      "source": [
        "data = data.withColumnRenamed('location_name_copy', 'location_name_changed')\n",
        "data.show(5)"
      ],
      "metadata": {
        "colab": {
          "base_uri": "https://localhost:8080/"
        },
        "id": "A0ZGrST-HxN7",
        "outputId": "1ecf6f0c-d6ab-456c-a7f9-5609690d0eee"
      },
      "execution_count": 106,
      "outputs": [
        {
          "output_type": "stream",
          "name": "stdout",
          "text": [
            "+-----------------+-----------+-------------+------+--------+------------+--------------+-------+-------------+-------------+-------------+---------------------+\n",
            "|     measure_name|location_id|location_name|sex_id|sex_name|age_group_id|age_group_name|year_id|          val|        upper|        lower|location_name_changed|\n",
            "+-----------------+-----------+-------------+------+--------+------------+--------------+-------+-------------+-------------+-------------+---------------------+\n",
            "|Number of Smokers|          1|       Global|     1|    Male|          29|     15+ years|   1990|8.031014671E8| 8.09622101E8|7.959086358E8|               Global|\n",
            "|Number of Smokers|          1|       Global|     2|  Female|          29|     15+ years|   1990| 1.89148834E8|1.930928887E8|1.855594699E8|               Global|\n",
            "|Number of Smokers|          1|       Global|     3|    Both|          29|     15+ years|   1990|9.922503012E8|1.000161258E9|9.847880438E8|               Global|\n",
            "|Number of Smokers|          1|       Global|     1|    Male|          29|     15+ years|   1991|8.138972164E8| 8.20033926E8|8.069514479E8|               Global|\n",
            "|Number of Smokers|          1|       Global|     2|  Female|          29|     15+ years|   1991|1.905375451E8|1.944249287E8|1.869744245E8|               Global|\n",
            "+-----------------+-----------+-------------+------+--------+------------+--------------+-------+-------------+-------------+-------------+---------------------+\n",
            "only showing top 5 rows\n",
            "\n"
          ]
        }
      ]
    },
    {
      "cell_type": "markdown",
      "source": [
        "3 - Upuszczanie kolumny:"
      ],
      "metadata": {
        "id": "-uzVUfFBXhcu"
      }
    },
    {
      "cell_type": "code",
      "source": [
        "data = data.drop('location_name_changed')\n",
        "data.show(5)\n"
      ],
      "metadata": {
        "colab": {
          "base_uri": "https://localhost:8080/"
        },
        "id": "m1sv-eahD0C_",
        "outputId": "a781355b-7725-4aa9-9d12-84b96a05d999"
      },
      "execution_count": 107,
      "outputs": [
        {
          "output_type": "stream",
          "name": "stdout",
          "text": [
            "+-----------------+-----------+-------------+------+--------+------------+--------------+-------+-------------+-------------+-------------+\n",
            "|     measure_name|location_id|location_name|sex_id|sex_name|age_group_id|age_group_name|year_id|          val|        upper|        lower|\n",
            "+-----------------+-----------+-------------+------+--------+------------+--------------+-------+-------------+-------------+-------------+\n",
            "|Number of Smokers|          1|       Global|     1|    Male|          29|     15+ years|   1990|8.031014671E8| 8.09622101E8|7.959086358E8|\n",
            "|Number of Smokers|          1|       Global|     2|  Female|          29|     15+ years|   1990| 1.89148834E8|1.930928887E8|1.855594699E8|\n",
            "|Number of Smokers|          1|       Global|     3|    Both|          29|     15+ years|   1990|9.922503012E8|1.000161258E9|9.847880438E8|\n",
            "|Number of Smokers|          1|       Global|     1|    Male|          29|     15+ years|   1991|8.138972164E8| 8.20033926E8|8.069514479E8|\n",
            "|Number of Smokers|          1|       Global|     2|  Female|          29|     15+ years|   1991|1.905375451E8|1.944249287E8|1.869744245E8|\n",
            "+-----------------+-----------+-------------+------+--------+------------+--------------+-------+-------------+-------------+-------------+\n",
            "only showing top 5 rows\n",
            "\n"
          ]
        }
      ]
    },
    {
      "cell_type": "markdown",
      "source": [
        "# 5 - Radzenie sobie z brakującymi wartościami"
      ],
      "metadata": {
        "id": "goaYuBHTH_GY"
      }
    },
    {
      "cell_type": "code",
      "source": [
        "from pyspark.sql import functions as f\n",
        "# Usuń wiersze z brakującymi wartościami w dowolnej z kolumn\n",
        "data.na.drop()\n",
        "# Zastąp brakujące wartości za pomocą średniej\n",
        "data.na.fill(data.select(f.mean(data['age_group_id'])).collect()[0][0])\n",
        "# Zastąp brakujące wartości nowymi\n",
        "# data.na.replace(old_value, new_vallue)"
      ],
      "metadata": {
        "colab": {
          "base_uri": "https://localhost:8080/"
        },
        "id": "9vXhCX1VEVmg",
        "outputId": "2819dfec-a58d-429b-a719-245e6c2902d8"
      },
      "execution_count": 108,
      "outputs": [
        {
          "output_type": "execute_result",
          "data": {
            "text/plain": [
              "DataFrame[measure_name: string, location_id: int, location_name: string, sex_id: int, sex_name: string, age_group_id: int, age_group_name: string, year_id: int, val: double, upper: double, lower: double]"
            ]
          },
          "metadata": {},
          "execution_count": 108
        }
      ]
    },
    {
      "cell_type": "markdown",
      "source": [
        "# 6 - Pobieranie danych"
      ],
      "metadata": {
        "id": "dQYk6E7yI9od"
      }
    },
    {
      "cell_type": "markdown",
      "source": [
        "1 - Select"
      ],
      "metadata": {
        "id": "HACJALUkXw6H"
      }
    },
    {
      "cell_type": "code",
      "source": [
        "# wybór jednej kolumny\n",
        "data.select('year_id').show(5)\n"
      ],
      "metadata": {
        "colab": {
          "base_uri": "https://localhost:8080/"
        },
        "id": "Ra9NKpkbIWUl",
        "outputId": "11f8f80b-3319-437a-cb53-78819ba226a4"
      },
      "execution_count": 109,
      "outputs": [
        {
          "output_type": "stream",
          "name": "stdout",
          "text": [
            "+-------+\n",
            "|year_id|\n",
            "+-------+\n",
            "|   1990|\n",
            "|   1990|\n",
            "|   1990|\n",
            "|   1991|\n",
            "|   1991|\n",
            "+-------+\n",
            "only showing top 5 rows\n",
            "\n"
          ]
        }
      ]
    },
    {
      "cell_type": "code",
      "source": [
        "# wybór kilku kolumn\n",
        "data.select(['location_name', 'sex_name', 'year_id']).show(5)"
      ],
      "metadata": {
        "colab": {
          "base_uri": "https://localhost:8080/"
        },
        "id": "iK3S6DnmJD2H",
        "outputId": "167cb0ae-c721-4161-a542-c3bd8c5ec0c6"
      },
      "execution_count": 110,
      "outputs": [
        {
          "output_type": "stream",
          "name": "stdout",
          "text": [
            "+-------------+--------+-------+\n",
            "|location_name|sex_name|year_id|\n",
            "+-------------+--------+-------+\n",
            "|       Global|    Male|   1990|\n",
            "|       Global|  Female|   1990|\n",
            "|       Global|    Both|   1990|\n",
            "|       Global|    Male|   1991|\n",
            "|       Global|  Female|   1991|\n",
            "+-------------+--------+-------+\n",
            "only showing top 5 rows\n",
            "\n"
          ]
        }
      ]
    },
    {
      "cell_type": "markdown",
      "source": [
        "2 - Filter"
      ],
      "metadata": {
        "id": "dtGvZKxwX2s1"
      }
    },
    {
      "cell_type": "code",
      "source": [
        "from pyspark.sql.functions import col\n",
        "data.filter( (col('year_id') >= 2000) & (col('sex_name') == 'Female') ).show(5)\n"
      ],
      "metadata": {
        "colab": {
          "base_uri": "https://localhost:8080/"
        },
        "id": "0h3qsis1JShe",
        "outputId": "190495ee-cec7-43e5-f95e-ba9a3a969c8b"
      },
      "execution_count": 111,
      "outputs": [
        {
          "output_type": "stream",
          "name": "stdout",
          "text": [
            "+-----------------+-----------+-------------+------+--------+------------+--------------+-------+-------------+-------------+-------------+\n",
            "|     measure_name|location_id|location_name|sex_id|sex_name|age_group_id|age_group_name|year_id|          val|        upper|        lower|\n",
            "+-----------------+-----------+-------------+------+--------+------------+--------------+-------+-------------+-------------+-------------+\n",
            "|Number of Smokers|          1|       Global|     2|  Female|          29|     15+ years|   2000| 2.03389244E8|2.070119921E8|2.000443639E8|\n",
            "|Number of Smokers|          1|       Global|     2|  Female|          29|     15+ years|   2001|2.043228487E8|2.078410984E8|2.011225869E8|\n",
            "|Number of Smokers|          1|       Global|     2|  Female|          29|     15+ years|   2002|2.051251323E8|2.086136115E8|2.019432714E8|\n",
            "|Number of Smokers|          1|       Global|     2|  Female|          29|     15+ years|   2003| 2.05852521E8|2.094216076E8|2.026372326E8|\n",
            "|Number of Smokers|          1|       Global|     2|  Female|          29|     15+ years|   2004|2.064882331E8|2.099930308E8|2.031999303E8|\n",
            "+-----------------+-----------+-------------+------+--------+------------+--------------+-------+-------------+-------------+-------------+\n",
            "only showing top 5 rows\n",
            "\n"
          ]
        }
      ]
    },
    {
      "cell_type": "markdown",
      "source": [
        "3 - Between"
      ],
      "metadata": {
        "id": "tGKmTGRFX5Rt"
      }
    },
    {
      "cell_type": "code",
      "source": [
        "data.filter(data.year_id.between(1995, 2000)).show()"
      ],
      "metadata": {
        "colab": {
          "base_uri": "https://localhost:8080/"
        },
        "id": "KZ5VXOjEJeWA",
        "outputId": "9c494a10-3efc-4762-ecd3-adc8f9c83db3"
      },
      "execution_count": 112,
      "outputs": [
        {
          "output_type": "stream",
          "name": "stdout",
          "text": [
            "+-----------------+-----------+--------------------+------+--------+------------+--------------+-------+-------------+-------------+-------------+\n",
            "|     measure_name|location_id|       location_name|sex_id|sex_name|age_group_id|age_group_name|year_id|          val|        upper|        lower|\n",
            "+-----------------+-----------+--------------------+------+--------+------------+--------------+-------+-------------+-------------+-------------+\n",
            "|Number of Smokers|          1|              Global|     1|    Male|          29|     15+ years|   1995|8.433043019E8|8.490080491E8|  8.3750097E8|\n",
            "|Number of Smokers|          1|              Global|     2|  Female|          29|     15+ years|   1995|1.963544335E8|2.002139588E8|1.930128599E8|\n",
            "|Number of Smokers|          1|              Global|     3|    Both|          29|     15+ years|   1995|1.039658735E9|1.047062623E9|1.032850499E9|\n",
            "|Number of Smokers|          1|              Global|     1|    Male|          29|     15+ years|   1996|8.478849471E8|8.536353541E8| 8.42071989E8|\n",
            "|Number of Smokers|          1|              Global|     2|  Female|          29|     15+ years|   1996|1.980633863E8|2.018466552E8|1.946320182E8|\n",
            "|Number of Smokers|          1|              Global|     3|    Both|          29|     15+ years|   1996|1.045948333E9|1.053276972E9|1.039024799E9|\n",
            "|Number of Smokers|          1|              Global|     1|    Male|          29|     15+ years|   1997|8.516471918E8|8.573761175E8|8.457102366E8|\n",
            "|Number of Smokers|          1|              Global|     2|  Female|          29|     15+ years|   1997|1.996329437E8|2.032874241E8|1.962767139E8|\n",
            "|Number of Smokers|          1|              Global|     3|    Both|          29|     15+ years|   1997|1.051280135E9| 1.05835932E9|1.044430801E9|\n",
            "|Number of Smokers|          1|              Global|     1|    Male|          29|     15+ years|   1998|8.550585577E8|8.608097687E8|8.491967263E8|\n",
            "|Number of Smokers|          1|              Global|     2|  Female|          29|     15+ years|   1998|2.010668729E8|2.048237827E8|1.978497379E8|\n",
            "|Number of Smokers|          1|              Global|     3|    Both|          29|     15+ years|   1998|1.056125431E9|1.062905206E9|1.049476558E9|\n",
            "|Number of Smokers|          1|              Global|     1|    Male|          29|     15+ years|   1999|8.582672178E8|8.639698017E8|8.525235784E8|\n",
            "|Number of Smokers|          1|              Global|     2|  Female|          29|     15+ years|   1999|2.023213713E8|2.059460479E8|1.989813106E8|\n",
            "|Number of Smokers|          1|              Global|     3|    Both|          29|     15+ years|   1999|1.060588589E9|1.067665003E9|1.053944039E9|\n",
            "|Number of Smokers|          1|              Global|     1|    Male|          29|     15+ years|   2000|  8.6154577E8| 8.67412168E8|8.560329846E8|\n",
            "|Number of Smokers|          1|              Global|     2|  Female|          29|     15+ years|   2000| 2.03389244E8|2.070119921E8|2.000443639E8|\n",
            "|Number of Smokers|          1|              Global|     3|    Both|          29|     15+ years|   2000|1.064935014E9|1.071795767E9|1.058216329E9|\n",
            "|Number of Smokers|          4|Southeast Asia, E...|     1|    Male|          29|     15+ years|   1995|3.779077105E8| 3.82356775E8|3.731279345E8|\n",
            "|Number of Smokers|          4|Southeast Asia, E...|     2|  Female|          29|     15+ years|   1995|2.964856863E7|3.221889337E7|2.751987308E7|\n",
            "+-----------------+-----------+--------------------+------+--------+------------+--------------+-------+-------------+-------------+-------------+\n",
            "only showing top 20 rows\n",
            "\n"
          ]
        }
      ]
    },
    {
      "cell_type": "markdown",
      "source": [
        "4 - When"
      ],
      "metadata": {
        "id": "MNYGd_HIX8bF"
      }
    },
    {
      "cell_type": "code",
      "source": [
        "data.select('location_name', 'sex_name',\n",
        "f.when(data.year_id == '2000', 1).otherwise(0)\n",
        ").show(5)\n"
      ],
      "metadata": {
        "colab": {
          "base_uri": "https://localhost:8080/"
        },
        "id": "Ai3lNOUlJ55y",
        "outputId": "0cdfac25-d2c6-4974-c343-541959627b31"
      },
      "execution_count": 113,
      "outputs": [
        {
          "output_type": "stream",
          "name": "stdout",
          "text": [
            "+-------------+--------+--------------------------------------------+\n",
            "|location_name|sex_name|CASE WHEN (year_id = 2000) THEN 1 ELSE 0 END|\n",
            "+-------------+--------+--------------------------------------------+\n",
            "|       Global|    Male|                                           0|\n",
            "|       Global|  Female|                                           0|\n",
            "|       Global|    Both|                                           0|\n",
            "|       Global|    Male|                                           0|\n",
            "|       Global|  Female|                                           0|\n",
            "+-------------+--------+--------------------------------------------+\n",
            "only showing top 5 rows\n",
            "\n"
          ]
        }
      ]
    },
    {
      "cell_type": "markdown",
      "source": [
        "5 - Like"
      ],
      "metadata": {
        "id": "oNiHkhsrX-bH"
      }
    },
    {
      "cell_type": "code",
      "source": [
        "data.select('location_name', data.location_name.rlike('^[G,P]').alias('location_name zaczyba sie na litere G lub P')).distinct().show()\n"
      ],
      "metadata": {
        "colab": {
          "base_uri": "https://localhost:8080/"
        },
        "id": "2dETzEgfKQGY",
        "outputId": "0b309557-cb19-42ab-eed3-f74dc13d8bf8"
      },
      "execution_count": 114,
      "outputs": [
        {
          "output_type": "stream",
          "name": "stdout",
          "text": [
            "+--------------------+-------------------------------------------+\n",
            "|       location_name|location_name zaczyba sie na litere G lub P|\n",
            "+--------------------+-------------------------------------------+\n",
            "|                Cuba|                                      false|\n",
            "|          Mauritania|                                      false|\n",
            "|            Djibouti|                                      false|\n",
            "|            Slovenia|                                      false|\n",
            "|  Sub-Saharan Africa|                                      false|\n",
            "|              Malawi|                                      false|\n",
            "|      United Kingdom|                                      false|\n",
            "|            Pakistan|                                       true|\n",
            "|            Botswana|                                      false|\n",
            "|          Madagascar|                                      false|\n",
            "|           Australia|                                      false|\n",
            "|United States of ...|                                      false|\n",
            "|               Ghana|                                       true|\n",
            "|             Tokelau|                                      false|\n",
            "|             Belarus|                                      false|\n",
            "|Bolivia (Plurinat...|                                      false|\n",
            "|  Dominican Republic|                                      false|\n",
            "|            Paraguay|                                       true|\n",
            "|             Croatia|                                      false|\n",
            "|             Ukraine|                                      false|\n",
            "+--------------------+-------------------------------------------+\n",
            "only showing top 20 rows\n",
            "\n"
          ]
        }
      ]
    },
    {
      "cell_type": "markdown",
      "source": [
        "6 - GroupBy"
      ],
      "metadata": {
        "id": "CcrTX9LXYCJ-"
      }
    },
    {
      "cell_type": "code",
      "source": [
        "data.select(['val', 'upper', 'lower']).groupBy('val').mean().show()"
      ],
      "metadata": {
        "colab": {
          "base_uri": "https://localhost:8080/"
        },
        "id": "tQsyWIUFK6hx",
        "outputId": "f112f1a6-ffec-489b-9b52-15994704cc3b"
      },
      "execution_count": 115,
      "outputs": [
        {
          "output_type": "stream",
          "name": "stdout",
          "text": [
            "+-------------+-------------+-------------+------------+\n",
            "|          val|     avg(val)|   avg(upper)|  avg(lower)|\n",
            "+-------------+-------------+-------------+------------+\n",
            "|  134007.9694|  134007.9694|   139677.191| 128260.0995|\n",
            "|  8270.464532|  8270.464532|  9504.142112| 7096.286328|\n",
            "|  11829.30213|  11829.30213|  13621.19377| 10115.58969|\n",
            "|  35698.65734|  35698.65734|   37600.2659| 33870.85627|\n",
            "|  46355.98657|  46355.98657|   49432.5945| 43154.77478|\n",
            "|  13869.07463|  13869.07463|  15706.97617| 12179.06027|\n",
            "|  20742.10263|  20742.10263|  22062.18255| 19357.08588|\n",
            "|  7423.071697|  7423.071697|  8228.304212|  6694.14611|\n",
            "|  7448.841156|  7448.841156|  8213.962619| 6706.265256|\n",
            "|  9104.794872|  9104.794872|  10096.50032| 8162.279112|\n",
            "|  2887.470373|  2887.470373|  3818.180825| 2189.147345|\n",
            "|  4744.936929|  4744.936929|   5932.17345| 3729.904017|\n",
            "|  458.0840221|  458.0840221|  606.3972438| 344.4231654|\n",
            "|  3185.522508|  3185.522508|  3507.963054|  2861.54479|\n",
            "|  3986.842432|  3986.842432|  4810.125966| 3191.818067|\n",
            "|  7677.332734|  7677.332734|  8179.958609| 7109.126253|\n",
            "|  12568.07874|  12568.07874|  13358.02037| 11766.13512|\n",
            "|  4478.782127|  4478.782127|   4815.00638| 4148.004533|\n",
            "|  441.7884447|  441.7884447|  565.9563718|  331.323542|\n",
            "|8.313872544E8|8.313872544E8|8.372931128E8|8.24949648E8|\n",
            "+-------------+-------------+-------------+------------+\n",
            "only showing top 20 rows\n",
            "\n"
          ]
        }
      ]
    },
    {
      "cell_type": "markdown",
      "source": [
        "7 - Agregacja"
      ],
      "metadata": {
        "id": "OvThCIxIYEfY"
      }
    },
    {
      "cell_type": "code",
      "source": [
        "from pyspark.sql import functions as f\n",
        "\n",
        "data.filter((col('val') >= 1000000) & (col('val') <= 5000000))\\\n",
        ".groupBy(\"location_name\") \\\n",
        ".agg(f.min(\"val\").alias(\"from\"),\n",
        "f.max(\"val\").alias(\"to\"),\n",
        "f.min(\"val\").alias(\"minimum vaccinated\"),\n",
        "f.max(\"val\").alias(\"maximum vaccinated\"),\n",
        "f.avg(\"val\").alias(\"average vaccinated\"),\n",
        "f.min(\"val\").alias(\"minimum␣economic_support_index\"),\n",
        "f.max(\"val\").alias(\"maximum␣_economic_support_index\"),\n",
        "f.avg(\"val\").alias(\"average␣_economic_support_index\"),\n",
        ").show(truncate=False)\n"
      ],
      "metadata": {
        "colab": {
          "base_uri": "https://localhost:8080/"
        },
        "id": "14cd7MtNLdEY",
        "outputId": "6949c1f7-69c8-4978-b3f8-db38da78fcd5"
      },
      "execution_count": 116,
      "outputs": [
        {
          "output_type": "stream",
          "name": "stdout",
          "text": [
            "+-----------------+-----------+-----------+------------------+------------------+------------------+------------------------------+-------------------------------+-------------------------------+\n",
            "|location_name    |from       |to         |minimum vaccinated|maximum vaccinated|average vaccinated|minimum␣economic_support_index|maximum␣_economic_support_index|average␣_economic_support_index|\n",
            "+-----------------+-----------+-----------+------------------+------------------+------------------+------------------------------+-------------------------------+-------------------------------+\n",
            "|Côte d'Ivoire    |1023886.493|2165483.532|1023886.493       |2165483.532       |1601788.6232857148|1023886.493                   |2165483.532                    |1601788.6232857148             |\n",
            "|Yemen            |1030535.291|3657898.202|1030535.291       |3657898.202       |1993066.6792333333|1030535.291                   |3657898.202                    |1993066.6792333333             |\n",
            "|Sweden           |1067123.166|1644302.372|1067123.166       |1644302.372       |1308458.0137666664|1067123.166                   |1644302.372                    |1308458.0137666664             |\n",
            "|Republic of Korea|1063356.593|1179678.716|1063356.593       |1179678.716       |1147212.8582666668|1063356.593                   |1179678.716                    |1147212.8582666668             |\n",
            "|Philippines      |2214973.74 |3144082.409|2214973.74        |3144082.409       |2863151.9060000004|2214973.74                    |3144082.409                    |2863151.9060000004             |\n",
            "|Malaysia         |2942804.951|4978849.254|2942804.951       |4978849.254       |4206188.935574467 |2942804.951                   |4978849.254                    |4206188.935574467              |\n",
            "|Turkey           |3198400.064|4940216.419|3198400.064       |4940216.419       |4282831.987909092 |3198400.064                   |4940216.419                    |4282831.987909092              |\n",
            "|Malawi           |1019364.093|1164664.74 |1019364.093       |1164664.74        |1083080.244666667 |1019364.093                   |1164664.74                     |1083080.244666667              |\n",
            "|Iraq             |2135606.051|4941969.609|2135606.051       |4941969.609       |3431766.7088846145|2135606.051                   |4941969.609                    |3431766.7088846145             |\n",
            "|Cambodia         |1089526.703|2373559.505|1089526.703       |2373559.505       |1725967.798783333 |1089526.703                   |2373559.505                    |1725967.798783333              |\n",
            "|Afghanistan      |1013802.294|2257180.971|1013802.294       |2257180.971       |1605877.0142962963|1013802.294                   |2257180.971                    |1605877.0142962963             |\n",
            "|Jordan           |1015421.261|2817093.164|1015421.261       |2817093.164       |1765783.7067692312|1015421.261                   |2817093.164                    |1765783.7067692312             |\n",
            "|Sudan            |1210513.281|2689229.553|1210513.281       |2689229.553       |1917168.4488166673|1210513.281                   |2689229.553                    |1917168.4488166673             |\n",
            "|Greece           |1269978.149|3921930.694|1269978.149       |3921930.694       |2422811.3991111116|1269978.149                   |3921930.694                    |2422811.3991111116             |\n",
            "|Sri Lanka        |2073078.052|2606806.575|2073078.052       |2606806.575       |2329932.261716666 |2073078.052                   |2606806.575                    |2329932.261716666              |\n",
            "|Algeria          |2473253.484|4979791.166|2473253.484       |4979791.166       |3636862.253909091 |2473253.484                   |4979791.166                    |3636862.253909091              |\n",
            "|Slovakia         |1156863.894|1331143.078|1156863.894       |1331143.078       |1260198.3315666674|1156863.894                   |1331143.078                    |1260198.3315666674             |\n",
            "|Argentina        |2982430.438|4846195.904|2982430.438       |4846195.904       |3803538.7871000012|2982430.438                   |4846195.904                    |3803538.7871000012             |\n",
            "|Belgium          |1007284.838|2783487.184|1007284.838       |2783487.184       |1656247.782831326 |1007284.838                   |2783487.184                    |1656247.782831326              |\n",
            "|Angola           |1002162.849|1519341.656|1002162.849       |1519341.656       |1212375.1044736842|1002162.849                   |1519341.656                    |1212375.1044736842             |\n",
            "+-----------------+-----------+-----------+------------------+------------------+------------------+------------------------------+-------------------------------+-------------------------------+\n",
            "only showing top 20 rows\n",
            "\n"
          ]
        }
      ]
    },
    {
      "cell_type": "markdown",
      "source": [
        "# 7 - wizualizacja danych "
      ],
      "metadata": {
        "id": "0T1LKpSkOF8o"
      }
    },
    {
      "cell_type": "code",
      "source": [
        "from matplotlib import pyplot as plt\n",
        "\n",
        "currency_df = data.select(['location_name',\n",
        "'val',\n",
        "'upper',\n",
        "'lower']\n",
        ")\\\n",
        ".groupBy('location_name')\\\n",
        ".mean()\\\n",
        ".toPandas()\n",
        "ind = list(range(12))\n",
        "ind.pop(6)\n",
        "currency_df.iloc[ind ,:].plot(kind='bar', x='location_name', y=currency_df.columns.tolist()[1:],\n",
        "figsize=(12, 6), ylabel='People', xlabel='iso␣currency')\n",
        "plt.show()\n"
      ],
      "metadata": {
        "colab": {
          "base_uri": "https://localhost:8080/",
          "height": 815
        },
        "id": "9uo_VYSzOBC1",
        "outputId": "3f48ee98-d5fd-44e2-ae0d-71b3a47aff24"
      },
      "execution_count": 117,
      "outputs": [
        {
          "output_type": "display_data",
          "data": {
            "text/plain": [
              "<Figure size 1200x600 with 1 Axes>"
            ],
            "image/png": "[encoded data removed]"
          },
          "metadata": {}
        }
      ]
    },
    {
      "cell_type": "markdown",
      "source": [
        "# 8 - Zapisywanie/zapisywanie danych do pliku"
      ],
      "metadata": {
        "id": "ds9s40dgQyF0"
      }
    },
    {
      "cell_type": "code",
      "source": [
        "# CSV\n",
        "data.write.csv('dataset.csv')\n",
        "# JSON\n",
        "data.write.save('dataset.json', format='json')\n",
        "# Parquet\n",
        "data.write.save('dataset.parquet', format='parquet')\n"
      ],
      "metadata": {
        "id": "yU38zFpnOOun"
      },
      "execution_count": null,
      "outputs": []
    },
    {
      "cell_type": "code",
      "source": [
        "# Zapisywanie wybranych kolumn\n",
        "# CSV\n",
        "data.select(['location_name','sex_name','year_id','val'])\\\n",
        ".write.csv('dataset_columns.csv')\n",
        "# JSON\n",
        "data.select(['location_name','sex_name','year_id','val'])\\\n",
        ".write.save('dataset_columns.json', format='json')\n",
        "# Parquet\n",
        "data.select(['location_name','sex_name','year_id','val'])\\\n",
        ".write.save('dataset_columns.parquet', format='parquet')"
      ],
      "metadata": {
        "id": "pISA6zZoQ5Y-"
      },
      "execution_count": null,
      "outputs": []
    },
    {
      "cell_type": "code",
      "source": [],
      "metadata": {
        "id": "2pz7OpEaRVGE"
      },
      "execution_count": null,
      "outputs": []
    }
  ]
}